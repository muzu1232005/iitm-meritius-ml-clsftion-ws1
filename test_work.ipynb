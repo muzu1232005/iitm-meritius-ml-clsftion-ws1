{
 "cells": [
  {
   "cell_type": "code",
   "execution_count": 10,
   "id": "a94a72fa",
   "metadata": {},
   "outputs": [],
   "source": [
    "import pandas as pd\n",
    "import numpy as np\n",
    "from sklearn.model_selection import train_test_split\n",
    "from sklearn.linear_model import LogisticRegression # LogisticRegression Model from sklearn\n",
    "from sklearn.metrics import classification_report, confusion_matrix,roc_curve\n",
    "import matplotlib.pyplot as plt\n",
    "import seaborn as sns"
   ]
  },
  {
   "cell_type": "code",
   "execution_count": 11,
   "id": "c9ccd0c5",
   "metadata": {},
   "outputs": [
    {
     "data": {
      "application/vnd.microsoft.datawrangler.viewer.v0+json": {
       "columns": [
        {
         "name": "index",
         "rawType": "int64",
         "type": "integer"
        },
        {
         "name": "A",
         "rawType": "float64",
         "type": "float"
        },
        {
         "name": "B",
         "rawType": "float64",
         "type": "float"
        }
       ],
       "ref": "286b145c-f727-424e-9ded-c8a6f0ddf83a",
       "rows": [
        [
         "0",
         "14.0",
         null
        ],
        [
         "1",
         "6.0",
         "6.0"
        ],
        [
         "2",
         null,
         null
        ],
        [
         "3",
         "9.0",
         "9.0"
        ],
        [
         "4",
         null,
         null
        ]
       ],
       "shape": {
        "columns": 2,
        "rows": 5
       }
      },
      "text/html": [
       "<div>\n",
       "<style scoped>\n",
       "    .dataframe tbody tr th:only-of-type {\n",
       "        vertical-align: middle;\n",
       "    }\n",
       "\n",
       "    .dataframe tbody tr th {\n",
       "        vertical-align: top;\n",
       "    }\n",
       "\n",
       "    .dataframe thead th {\n",
       "        text-align: right;\n",
       "    }\n",
       "</style>\n",
       "<table border=\"1\" class=\"dataframe\">\n",
       "  <thead>\n",
       "    <tr style=\"text-align: right;\">\n",
       "      <th></th>\n",
       "      <th>A</th>\n",
       "      <th>B</th>\n",
       "    </tr>\n",
       "  </thead>\n",
       "  <tbody>\n",
       "    <tr>\n",
       "      <th>0</th>\n",
       "      <td>14.0</td>\n",
       "      <td>NaN</td>\n",
       "    </tr>\n",
       "    <tr>\n",
       "      <th>1</th>\n",
       "      <td>6.0</td>\n",
       "      <td>6.0</td>\n",
       "    </tr>\n",
       "    <tr>\n",
       "      <th>2</th>\n",
       "      <td>NaN</td>\n",
       "      <td>NaN</td>\n",
       "    </tr>\n",
       "    <tr>\n",
       "      <th>3</th>\n",
       "      <td>9.0</td>\n",
       "      <td>9.0</td>\n",
       "    </tr>\n",
       "    <tr>\n",
       "      <th>4</th>\n",
       "      <td>NaN</td>\n",
       "      <td>NaN</td>\n",
       "    </tr>\n",
       "  </tbody>\n",
       "</table>\n",
       "</div>"
      ],
      "text/plain": [
       "      A    B\n",
       "0  14.0  NaN\n",
       "1   6.0  6.0\n",
       "2   NaN  NaN\n",
       "3   9.0  9.0\n",
       "4   NaN  NaN"
      ]
     },
     "execution_count": 11,
     "metadata": {},
     "output_type": "execute_result"
    }
   ],
   "source": [
    "sample1 = pd.DataFrame({ 'A': [14 , 6,float('nan'),9,float('nan')]  ,\n",
    "                        'B': [float('nan') , 6,float('nan'),9,float('nan')]\n",
    "                        \n",
    "                         })\n",
    "sample1"
   ]
  },
  {
   "cell_type": "code",
   "execution_count": 12,
   "id": "989d8236",
   "metadata": {},
   "outputs": [
    {
     "name": "stdout",
     "output_type": "stream",
     "text": [
      "<class 'pandas.core.frame.DataFrame'>\n",
      "RangeIndex: 5 entries, 0 to 4\n",
      "Data columns (total 2 columns):\n",
      " #   Column  Non-Null Count  Dtype  \n",
      "---  ------  --------------  -----  \n",
      " 0   A       3 non-null      float64\n",
      " 1   B       2 non-null      float64\n",
      "dtypes: float64(2)\n",
      "memory usage: 212.0 bytes\n"
     ]
    }
   ],
   "source": [
    "sample1.info()"
   ]
  },
  {
   "cell_type": "code",
   "execution_count": 13,
   "id": "31162dad",
   "metadata": {},
   "outputs": [
    {
     "data": {
      "application/vnd.microsoft.datawrangler.viewer.v0+json": {
       "columns": [
        {
         "name": "index",
         "rawType": "int64",
         "type": "integer"
        },
        {
         "name": "A",
         "rawType": "float64",
         "type": "float"
        },
        {
         "name": "B",
         "rawType": "float64",
         "type": "float"
        }
       ],
       "ref": "70991768-8a0c-4dda-87f1-21b04e647d20",
       "rows": [
        [
         "0",
         "14.0",
         null
        ],
        [
         "1",
         "6.0",
         "6.0"
        ],
        [
         "2",
         "6.0",
         "6.0"
        ],
        [
         "3",
         "9.0",
         "9.0"
        ],
        [
         "4",
         "9.0",
         "9.0"
        ]
       ],
       "shape": {
        "columns": 2,
        "rows": 5
       }
      },
      "text/html": [
       "<div>\n",
       "<style scoped>\n",
       "    .dataframe tbody tr th:only-of-type {\n",
       "        vertical-align: middle;\n",
       "    }\n",
       "\n",
       "    .dataframe tbody tr th {\n",
       "        vertical-align: top;\n",
       "    }\n",
       "\n",
       "    .dataframe thead th {\n",
       "        text-align: right;\n",
       "    }\n",
       "</style>\n",
       "<table border=\"1\" class=\"dataframe\">\n",
       "  <thead>\n",
       "    <tr style=\"text-align: right;\">\n",
       "      <th></th>\n",
       "      <th>A</th>\n",
       "      <th>B</th>\n",
       "    </tr>\n",
       "  </thead>\n",
       "  <tbody>\n",
       "    <tr>\n",
       "      <th>0</th>\n",
       "      <td>14.0</td>\n",
       "      <td>NaN</td>\n",
       "    </tr>\n",
       "    <tr>\n",
       "      <th>1</th>\n",
       "      <td>6.0</td>\n",
       "      <td>6.0</td>\n",
       "    </tr>\n",
       "    <tr>\n",
       "      <th>2</th>\n",
       "      <td>6.0</td>\n",
       "      <td>6.0</td>\n",
       "    </tr>\n",
       "    <tr>\n",
       "      <th>3</th>\n",
       "      <td>9.0</td>\n",
       "      <td>9.0</td>\n",
       "    </tr>\n",
       "    <tr>\n",
       "      <th>4</th>\n",
       "      <td>9.0</td>\n",
       "      <td>9.0</td>\n",
       "    </tr>\n",
       "  </tbody>\n",
       "</table>\n",
       "</div>"
      ],
      "text/plain": [
       "      A    B\n",
       "0  14.0  NaN\n",
       "1   6.0  6.0\n",
       "2   6.0  6.0\n",
       "3   9.0  9.0\n",
       "4   9.0  9.0"
      ]
     },
     "execution_count": 13,
     "metadata": {},
     "output_type": "execute_result"
    }
   ],
   "source": [
    "sample1.ffill(inplace= True)\n",
    "sample1"
   ]
  },
  {
   "cell_type": "code",
   "execution_count": 14,
   "id": "6af47e8f",
   "metadata": {},
   "outputs": [
    {
     "name": "stdout",
     "output_type": "stream",
     "text": [
      "<class 'pandas.core.frame.DataFrame'>\n",
      "RangeIndex: 5 entries, 0 to 4\n",
      "Data columns (total 2 columns):\n",
      " #   Column  Non-Null Count  Dtype  \n",
      "---  ------  --------------  -----  \n",
      " 0   A       5 non-null      float64\n",
      " 1   B       4 non-null      float64\n",
      "dtypes: float64(2)\n",
      "memory usage: 212.0 bytes\n"
     ]
    }
   ],
   "source": [
    "sample1.info()"
   ]
  },
  {
   "cell_type": "code",
   "execution_count": 15,
   "id": "89d834b8",
   "metadata": {},
   "outputs": [
    {
     "data": {
      "application/vnd.microsoft.datawrangler.viewer.v0+json": {
       "columns": [
        {
         "name": "index",
         "rawType": "int64",
         "type": "integer"
        },
        {
         "name": "Unnamed: 0",
         "rawType": "int64",
         "type": "integer"
        },
        {
         "name": "trans_date_trans_time",
         "rawType": "object",
         "type": "string"
        },
        {
         "name": "cc_num",
         "rawType": "int64",
         "type": "integer"
        },
        {
         "name": "merchant",
         "rawType": "object",
         "type": "string"
        },
        {
         "name": "category",
         "rawType": "object",
         "type": "string"
        },
        {
         "name": "amt",
         "rawType": "float64",
         "type": "float"
        },
        {
         "name": "first",
         "rawType": "object",
         "type": "string"
        },
        {
         "name": "last",
         "rawType": "object",
         "type": "string"
        },
        {
         "name": "gender",
         "rawType": "object",
         "type": "string"
        },
        {
         "name": "street",
         "rawType": "object",
         "type": "string"
        },
        {
         "name": "city",
         "rawType": "object",
         "type": "string"
        },
        {
         "name": "state",
         "rawType": "object",
         "type": "string"
        },
        {
         "name": "zip",
         "rawType": "int64",
         "type": "integer"
        },
        {
         "name": "lat",
         "rawType": "float64",
         "type": "float"
        },
        {
         "name": "long",
         "rawType": "float64",
         "type": "float"
        },
        {
         "name": "city_pop",
         "rawType": "int64",
         "type": "integer"
        },
        {
         "name": "job",
         "rawType": "object",
         "type": "string"
        },
        {
         "name": "dob",
         "rawType": "object",
         "type": "string"
        },
        {
         "name": "trans_num",
         "rawType": "object",
         "type": "string"
        },
        {
         "name": "unix_time",
         "rawType": "int64",
         "type": "integer"
        },
        {
         "name": "merch_lat",
         "rawType": "float64",
         "type": "float"
        },
        {
         "name": "merch_long",
         "rawType": "float64",
         "type": "float"
        },
        {
         "name": "is_fraud",
         "rawType": "int64",
         "type": "integer"
        }
       ],
       "ref": "5f8b571f-ed33-44bf-a634-1074335244aa",
       "rows": [
        [
         "0",
         "0",
         "2019-12-16 12:40:56",
         "377113842678100",
         "fraud_O'Connell, Botsford and Hand",
         "home",
         "32.65",
         "Billy",
         "Gallagher",
         "M",
         "673 Delgado Burg",
         "Greenwich",
         "NJ",
         "8323",
         "39.4055",
         "-75.3209",
         "804",
         "Insurance risk surveyor",
         "1965-03-25",
         "ecf3cff893d47eeec287958f2dcbe9f8",
         "1355661656",
         "38.988831",
         "-75.44242",
         "0"
        ],
        [
         "1",
         "1",
         "2019-11-10 21:29:24",
         "502038091380",
         "fraud_Haley, Jewess and Bechtelar",
         "shopping_pos",
         "819.52",
         "Kurt",
         "Peters",
         "M",
         "7290 Ashlee Keys",
         "Kissee Mills",
         "MO",
         "65680",
         "36.6704",
         "-93.0377",
         "1201",
         "Engineer, agricultural",
         "1980-03-18",
         "46f3f81e3f27d015db2d80f16a663b3d",
         "1352582964",
         "37.502359000000006",
         "-92.941619",
         "1"
        ],
        [
         "2",
         "2",
         "2019-12-31 22:11:08",
         "30181367542315",
         "fraud_Tillman, Fritsch and Schmitt",
         "misc_net",
         "808.97",
         "Danielle",
         "Walker",
         "F",
         "9824 Mitchell Run",
         "Powell Butte",
         "OR",
         "97753",
         "44.2415",
         "-121.0113",
         "2016",
         "Local government officer",
         "1953-12-25",
         "cf6151929f0b38c9db2181b27423cd34",
         "1356991868",
         "44.93175",
         "-121.287451",
         "1"
        ],
        [
         "3",
         "3",
         "2020-04-09 17:23:25",
         "376445266762684",
         "fraud_Mueller, Gerhold and Mueller",
         "health_fitness",
         "64.85",
         "Rachel",
         "Lowe",
         "F",
         "372 Jeffrey Course",
         "Sutherland",
         "NE",
         "69165",
         "41.1558",
         "-101.136",
         "1789",
         "Insurance broker",
         "1982-02-11",
         "5124d4971ec41f68634646067f63cd16",
         "1365528205",
         "41.084349",
         "-100.922198",
         "0"
        ],
        [
         "4",
         "4",
         "2019-12-22 15:03:23",
         "3500969075198072",
         "fraud_Frami Group",
         "entertainment",
         "63.2",
         "Kenneth",
         "Sanchez",
         "M",
         "0110 Ashley Forest",
         "Tekoa",
         "WA",
         "99033",
         "47.2271",
         "-117.0819",
         "895",
         "Clothing/textile technologist",
         "1999-05-31",
         "c8b812894d9b9ca7feeff9c83facaec1",
         "1356188603",
         "46.411414",
         "-116.657814",
         "0"
        ]
       ],
       "shape": {
        "columns": 23,
        "rows": 5
       }
      },
      "text/html": [
       "<div>\n",
       "<style scoped>\n",
       "    .dataframe tbody tr th:only-of-type {\n",
       "        vertical-align: middle;\n",
       "    }\n",
       "\n",
       "    .dataframe tbody tr th {\n",
       "        vertical-align: top;\n",
       "    }\n",
       "\n",
       "    .dataframe thead th {\n",
       "        text-align: right;\n",
       "    }\n",
       "</style>\n",
       "<table border=\"1\" class=\"dataframe\">\n",
       "  <thead>\n",
       "    <tr style=\"text-align: right;\">\n",
       "      <th></th>\n",
       "      <th>Unnamed: 0</th>\n",
       "      <th>trans_date_trans_time</th>\n",
       "      <th>cc_num</th>\n",
       "      <th>merchant</th>\n",
       "      <th>category</th>\n",
       "      <th>amt</th>\n",
       "      <th>first</th>\n",
       "      <th>last</th>\n",
       "      <th>gender</th>\n",
       "      <th>street</th>\n",
       "      <th>...</th>\n",
       "      <th>lat</th>\n",
       "      <th>long</th>\n",
       "      <th>city_pop</th>\n",
       "      <th>job</th>\n",
       "      <th>dob</th>\n",
       "      <th>trans_num</th>\n",
       "      <th>unix_time</th>\n",
       "      <th>merch_lat</th>\n",
       "      <th>merch_long</th>\n",
       "      <th>is_fraud</th>\n",
       "    </tr>\n",
       "  </thead>\n",
       "  <tbody>\n",
       "    <tr>\n",
       "      <th>0</th>\n",
       "      <td>0</td>\n",
       "      <td>2019-12-16 12:40:56</td>\n",
       "      <td>377113842678100</td>\n",
       "      <td>fraud_O'Connell, Botsford and Hand</td>\n",
       "      <td>home</td>\n",
       "      <td>32.65</td>\n",
       "      <td>Billy</td>\n",
       "      <td>Gallagher</td>\n",
       "      <td>M</td>\n",
       "      <td>673 Delgado Burg</td>\n",
       "      <td>...</td>\n",
       "      <td>39.4055</td>\n",
       "      <td>-75.3209</td>\n",
       "      <td>804</td>\n",
       "      <td>Insurance risk surveyor</td>\n",
       "      <td>1965-03-25</td>\n",
       "      <td>ecf3cff893d47eeec287958f2dcbe9f8</td>\n",
       "      <td>1355661656</td>\n",
       "      <td>38.988831</td>\n",
       "      <td>-75.442420</td>\n",
       "      <td>0</td>\n",
       "    </tr>\n",
       "    <tr>\n",
       "      <th>1</th>\n",
       "      <td>1</td>\n",
       "      <td>2019-11-10 21:29:24</td>\n",
       "      <td>502038091380</td>\n",
       "      <td>fraud_Haley, Jewess and Bechtelar</td>\n",
       "      <td>shopping_pos</td>\n",
       "      <td>819.52</td>\n",
       "      <td>Kurt</td>\n",
       "      <td>Peters</td>\n",
       "      <td>M</td>\n",
       "      <td>7290 Ashlee Keys</td>\n",
       "      <td>...</td>\n",
       "      <td>36.6704</td>\n",
       "      <td>-93.0377</td>\n",
       "      <td>1201</td>\n",
       "      <td>Engineer, agricultural</td>\n",
       "      <td>1980-03-18</td>\n",
       "      <td>46f3f81e3f27d015db2d80f16a663b3d</td>\n",
       "      <td>1352582964</td>\n",
       "      <td>37.502359</td>\n",
       "      <td>-92.941619</td>\n",
       "      <td>1</td>\n",
       "    </tr>\n",
       "    <tr>\n",
       "      <th>2</th>\n",
       "      <td>2</td>\n",
       "      <td>2019-12-31 22:11:08</td>\n",
       "      <td>30181367542315</td>\n",
       "      <td>fraud_Tillman, Fritsch and Schmitt</td>\n",
       "      <td>misc_net</td>\n",
       "      <td>808.97</td>\n",
       "      <td>Danielle</td>\n",
       "      <td>Walker</td>\n",
       "      <td>F</td>\n",
       "      <td>9824 Mitchell Run</td>\n",
       "      <td>...</td>\n",
       "      <td>44.2415</td>\n",
       "      <td>-121.0113</td>\n",
       "      <td>2016</td>\n",
       "      <td>Local government officer</td>\n",
       "      <td>1953-12-25</td>\n",
       "      <td>cf6151929f0b38c9db2181b27423cd34</td>\n",
       "      <td>1356991868</td>\n",
       "      <td>44.931750</td>\n",
       "      <td>-121.287451</td>\n",
       "      <td>1</td>\n",
       "    </tr>\n",
       "    <tr>\n",
       "      <th>3</th>\n",
       "      <td>3</td>\n",
       "      <td>2020-04-09 17:23:25</td>\n",
       "      <td>376445266762684</td>\n",
       "      <td>fraud_Mueller, Gerhold and Mueller</td>\n",
       "      <td>health_fitness</td>\n",
       "      <td>64.85</td>\n",
       "      <td>Rachel</td>\n",
       "      <td>Lowe</td>\n",
       "      <td>F</td>\n",
       "      <td>372 Jeffrey Course</td>\n",
       "      <td>...</td>\n",
       "      <td>41.1558</td>\n",
       "      <td>-101.1360</td>\n",
       "      <td>1789</td>\n",
       "      <td>Insurance broker</td>\n",
       "      <td>1982-02-11</td>\n",
       "      <td>5124d4971ec41f68634646067f63cd16</td>\n",
       "      <td>1365528205</td>\n",
       "      <td>41.084349</td>\n",
       "      <td>-100.922198</td>\n",
       "      <td>0</td>\n",
       "    </tr>\n",
       "    <tr>\n",
       "      <th>4</th>\n",
       "      <td>4</td>\n",
       "      <td>2019-12-22 15:03:23</td>\n",
       "      <td>3500969075198072</td>\n",
       "      <td>fraud_Frami Group</td>\n",
       "      <td>entertainment</td>\n",
       "      <td>63.20</td>\n",
       "      <td>Kenneth</td>\n",
       "      <td>Sanchez</td>\n",
       "      <td>M</td>\n",
       "      <td>0110 Ashley Forest</td>\n",
       "      <td>...</td>\n",
       "      <td>47.2271</td>\n",
       "      <td>-117.0819</td>\n",
       "      <td>895</td>\n",
       "      <td>Clothing/textile technologist</td>\n",
       "      <td>1999-05-31</td>\n",
       "      <td>c8b812894d9b9ca7feeff9c83facaec1</td>\n",
       "      <td>1356188603</td>\n",
       "      <td>46.411414</td>\n",
       "      <td>-116.657814</td>\n",
       "      <td>0</td>\n",
       "    </tr>\n",
       "  </tbody>\n",
       "</table>\n",
       "<p>5 rows × 23 columns</p>\n",
       "</div>"
      ],
      "text/plain": [
       "   Unnamed: 0 trans_date_trans_time            cc_num  \\\n",
       "0           0   2019-12-16 12:40:56   377113842678100   \n",
       "1           1   2019-11-10 21:29:24      502038091380   \n",
       "2           2   2019-12-31 22:11:08    30181367542315   \n",
       "3           3   2020-04-09 17:23:25   376445266762684   \n",
       "4           4   2019-12-22 15:03:23  3500969075198072   \n",
       "\n",
       "                             merchant        category     amt     first  \\\n",
       "0  fraud_O'Connell, Botsford and Hand            home   32.65     Billy   \n",
       "1   fraud_Haley, Jewess and Bechtelar    shopping_pos  819.52      Kurt   \n",
       "2  fraud_Tillman, Fritsch and Schmitt        misc_net  808.97  Danielle   \n",
       "3  fraud_Mueller, Gerhold and Mueller  health_fitness   64.85    Rachel   \n",
       "4                   fraud_Frami Group   entertainment   63.20   Kenneth   \n",
       "\n",
       "        last gender              street  ...      lat      long  city_pop  \\\n",
       "0  Gallagher      M    673 Delgado Burg  ...  39.4055  -75.3209       804   \n",
       "1     Peters      M    7290 Ashlee Keys  ...  36.6704  -93.0377      1201   \n",
       "2     Walker      F   9824 Mitchell Run  ...  44.2415 -121.0113      2016   \n",
       "3       Lowe      F  372 Jeffrey Course  ...  41.1558 -101.1360      1789   \n",
       "4    Sanchez      M  0110 Ashley Forest  ...  47.2271 -117.0819       895   \n",
       "\n",
       "                             job         dob  \\\n",
       "0        Insurance risk surveyor  1965-03-25   \n",
       "1         Engineer, agricultural  1980-03-18   \n",
       "2       Local government officer  1953-12-25   \n",
       "3               Insurance broker  1982-02-11   \n",
       "4  Clothing/textile technologist  1999-05-31   \n",
       "\n",
       "                          trans_num   unix_time  merch_lat  merch_long  \\\n",
       "0  ecf3cff893d47eeec287958f2dcbe9f8  1355661656  38.988831  -75.442420   \n",
       "1  46f3f81e3f27d015db2d80f16a663b3d  1352582964  37.502359  -92.941619   \n",
       "2  cf6151929f0b38c9db2181b27423cd34  1356991868  44.931750 -121.287451   \n",
       "3  5124d4971ec41f68634646067f63cd16  1365528205  41.084349 -100.922198   \n",
       "4  c8b812894d9b9ca7feeff9c83facaec1  1356188603  46.411414 -116.657814   \n",
       "\n",
       "   is_fraud  \n",
       "0         0  \n",
       "1         1  \n",
       "2         1  \n",
       "3         0  \n",
       "4         0  \n",
       "\n",
       "[5 rows x 23 columns]"
      ]
     },
     "execution_count": 15,
     "metadata": {},
     "output_type": "execute_result"
    }
   ],
   "source": [
    "fraud_txn_df = pd.read_csv(\"fraud_txn.csv\")\n",
    "fraud_txn_df.head()"
   ]
  },
  {
   "cell_type": "code",
   "execution_count": 16,
   "id": "72cfe321",
   "metadata": {},
   "outputs": [
    {
     "name": "stdout",
     "output_type": "stream",
     "text": [
      "<class 'pandas.core.frame.DataFrame'>\n",
      "RangeIndex: 15506 entries, 0 to 15505\n",
      "Data columns (total 13 columns):\n",
      " #   Column      Non-Null Count  Dtype  \n",
      "---  ------      --------------  -----  \n",
      " 0   cc_num      15506 non-null  int64  \n",
      " 1   merchant    15506 non-null  object \n",
      " 2   category    15506 non-null  object \n",
      " 3   amt         15506 non-null  float64\n",
      " 4   gender      15506 non-null  object \n",
      " 5   zip         15506 non-null  int64  \n",
      " 6   lat         15506 non-null  float64\n",
      " 7   long        15506 non-null  float64\n",
      " 8   city_pop    15506 non-null  int64  \n",
      " 9   unix_time   15506 non-null  int64  \n",
      " 10  merch_lat   15506 non-null  float64\n",
      " 11  merch_long  15506 non-null  float64\n",
      " 12  is_fraud    15506 non-null  int64  \n",
      "dtypes: float64(5), int64(5), object(3)\n",
      "memory usage: 1.5+ MB\n"
     ]
    }
   ],
   "source": [
    "#Drop unnecessary columns. Demographic columns is not needed.\n",
    "fraud_txn_df.drop(columns=['Unnamed: 0','trans_date_trans_time', 'first', 'last', 'street', 'city', 'state', 'job', 'dob', 'trans_num']\n",
    "                  , inplace=True) # Update the same dataframe - inplace=True\n",
    "fraud_txn_df.info()"
   ]
  },
  {
   "cell_type": "code",
   "execution_count": 17,
   "id": "3b959825",
   "metadata": {},
   "outputs": [
    {
     "name": "stdout",
     "output_type": "stream",
     "text": [
      "         lat      long  merch_lat  merch_long  transaction_distance\n",
      "0  58.988831 -15.44242  38.988831   -75.44242           4705.105969\n"
     ]
    }
   ],
   "source": [
    "import pandas as pd\n",
    "import numpy as np\n",
    "# If you prefer miles, set r = 3958.8\n",
    "def haversine_np(lat1, lon1, lat2, lon2, r=6371.0):\n",
    "    # convert degrees to radians\n",
    "    lat1, lon1, lat2, lon2 = map(np.radians, [lat1, lon1, lat2, lon2])\n",
    "    dlat = lat2 - lat1\n",
    "    dlon = lon2 - lon1\n",
    "\n",
    "    a = np.sin(dlat/2.0)**2 + np.cos(lat1) * np.cos(lat2) * np.sin(dlon/2.0)**2\n",
    "    c = 2 * np.arctan2(np.sqrt(a), np.sqrt(1 - a))\n",
    "    return r * c\n",
    "\n",
    "# Example DataFrame\n",
    "df = pd.DataFrame({\n",
    "    'lat': [58.988831],\n",
    "    'long': [-15.44242],\n",
    "    'merch_lat': [38.988831],\n",
    "    'merch_long': [-75.44242]\n",
    "})\n",
    "\n",
    "df['transaction_distance'] = haversine_np(\n",
    "    df['lat'], df['long'], df['merch_lat'], df['merch_long']\n",
    ")\n",
    "\n",
    "print(df)"
   ]
  },
  {
   "cell_type": "code",
   "execution_count": 18,
   "id": "873fd78f",
   "metadata": {},
   "outputs": [
    {
     "data": {
      "application/vnd.microsoft.datawrangler.viewer.v0+json": {
       "columns": [
        {
         "name": "index",
         "rawType": "int64",
         "type": "integer"
        },
        {
         "name": "is_fraud",
         "rawType": "int64",
         "type": "integer"
        }
       ],
       "ref": "ff29f22c-7681-4735-9f2e-40f96e7cb3b4",
       "rows": [
        [
         "0",
         "0"
        ],
        [
         "1",
         "1"
        ],
        [
         "2",
         "1"
        ],
        [
         "3",
         "0"
        ],
        [
         "4",
         "0"
        ],
        [
         "5",
         "0"
        ],
        [
         "6",
         "0"
        ],
        [
         "7",
         "1"
        ],
        [
         "8",
         "0"
        ],
        [
         "9",
         "0"
        ],
        [
         "10",
         "0"
        ],
        [
         "11",
         "1"
        ],
        [
         "12",
         "1"
        ],
        [
         "13",
         "1"
        ],
        [
         "14",
         "0"
        ],
        [
         "15",
         "0"
        ],
        [
         "16",
         "1"
        ],
        [
         "17",
         "0"
        ],
        [
         "18",
         "1"
        ],
        [
         "19",
         "0"
        ],
        [
         "20",
         "0"
        ],
        [
         "21",
         "1"
        ],
        [
         "22",
         "1"
        ],
        [
         "23",
         "1"
        ],
        [
         "24",
         "1"
        ],
        [
         "25",
         "0"
        ],
        [
         "26",
         "0"
        ],
        [
         "27",
         "1"
        ],
        [
         "28",
         "0"
        ],
        [
         "29",
         "0"
        ],
        [
         "30",
         "0"
        ],
        [
         "31",
         "0"
        ],
        [
         "32",
         "1"
        ],
        [
         "33",
         "1"
        ],
        [
         "34",
         "0"
        ],
        [
         "35",
         "1"
        ],
        [
         "36",
         "0"
        ],
        [
         "37",
         "0"
        ],
        [
         "38",
         "0"
        ],
        [
         "39",
         "1"
        ],
        [
         "40",
         "1"
        ],
        [
         "41",
         "1"
        ],
        [
         "42",
         "1"
        ],
        [
         "43",
         "1"
        ],
        [
         "44",
         "1"
        ],
        [
         "45",
         "1"
        ],
        [
         "46",
         "0"
        ],
        [
         "47",
         "0"
        ],
        [
         "48",
         "1"
        ],
        [
         "49",
         "0"
        ]
       ],
       "shape": {
        "columns": 1,
        "rows": 15506
       }
      },
      "text/plain": [
       "0        0\n",
       "1        1\n",
       "2        1\n",
       "3        0\n",
       "4        0\n",
       "        ..\n",
       "15501    1\n",
       "15502    0\n",
       "15503    1\n",
       "15504    1\n",
       "15505    1\n",
       "Name: is_fraud, Length: 15506, dtype: int64"
      ]
     },
     "execution_count": 18,
     "metadata": {},
     "output_type": "execute_result"
    }
   ],
   "source": [
    "fraud_txn_df['is_fraud']"
   ]
  },
  {
   "cell_type": "code",
   "execution_count": 26,
   "id": "ae6b523f",
   "metadata": {},
   "outputs": [
    {
     "name": "stdout",
     "output_type": "stream",
     "text": [
      "Fraud data shape :  (15506,)\n",
      "Fraud data shape after indexing :  (15506,)\n"
     ]
    }
   ],
   "source": [
    "# Fraud trends over time\n",
    "# Ensure datetime parsing\n",
    "fraud_txn_df = pd.read_csv(\"fraud_txn.csv\")\n",
    "\n",
    "fraud_txn_df['trans_date_trans_time'] = pd.to_datetime(fraud_txn_df['trans_date_trans_time'], errors='coerce')\n",
    "print(\"Fraud data shape : \",fraud_txn_df['trans_date_trans_time'].shape)\n",
    "\n",
    "# Drop rows with invalid timestamps or fraud flag\n",
    "fraud_txn_time_dat_df = fraud_txn_df.dropna(subset=['trans_date_trans_time', 'is_fraud'])\n",
    "\n",
    "# Set time-based index for easy resampling\n",
    "fraud_txn_time_dat_df = fraud_txn_time_dat_df.set_index('trans_date_trans_time')\n",
    "\n",
    "print(\"Fraud data shape after indexing : \",fraud_txn_df['trans_date_trans_time'].shape)"
   ]
  },
  {
   "cell_type": "code",
   "execution_count": 27,
   "id": "5327c990",
   "metadata": {},
   "outputs": [
    {
     "data": {
      "application/vnd.microsoft.datawrangler.viewer.v0+json": {
       "columns": [
        {
         "name": "trans_date_trans_time",
         "rawType": "datetime64[ns]",
         "type": "datetime"
        },
        {
         "name": "Unnamed: 0",
         "rawType": "int64",
         "type": "integer"
        },
        {
         "name": "cc_num",
         "rawType": "int64",
         "type": "integer"
        },
        {
         "name": "merchant",
         "rawType": "object",
         "type": "string"
        },
        {
         "name": "category",
         "rawType": "object",
         "type": "string"
        },
        {
         "name": "amt",
         "rawType": "float64",
         "type": "float"
        },
        {
         "name": "first",
         "rawType": "object",
         "type": "string"
        },
        {
         "name": "last",
         "rawType": "object",
         "type": "string"
        },
        {
         "name": "gender",
         "rawType": "object",
         "type": "string"
        },
        {
         "name": "street",
         "rawType": "object",
         "type": "string"
        },
        {
         "name": "city",
         "rawType": "object",
         "type": "string"
        },
        {
         "name": "state",
         "rawType": "object",
         "type": "string"
        },
        {
         "name": "zip",
         "rawType": "int64",
         "type": "integer"
        },
        {
         "name": "lat",
         "rawType": "float64",
         "type": "float"
        },
        {
         "name": "long",
         "rawType": "float64",
         "type": "float"
        },
        {
         "name": "city_pop",
         "rawType": "int64",
         "type": "integer"
        },
        {
         "name": "job",
         "rawType": "object",
         "type": "string"
        },
        {
         "name": "dob",
         "rawType": "object",
         "type": "string"
        },
        {
         "name": "trans_num",
         "rawType": "object",
         "type": "string"
        },
        {
         "name": "unix_time",
         "rawType": "int64",
         "type": "integer"
        },
        {
         "name": "merch_lat",
         "rawType": "float64",
         "type": "float"
        },
        {
         "name": "merch_long",
         "rawType": "float64",
         "type": "float"
        },
        {
         "name": "is_fraud",
         "rawType": "int64",
         "type": "integer"
        }
       ],
       "ref": "97b63a41-cdf2-48b9-97f0-4ad1855ec0d6",
       "rows": [
        [
         "2019-12-16 12:40:56",
         "0",
         "377113842678100",
         "fraud_O'Connell, Botsford and Hand",
         "home",
         "32.65",
         "Billy",
         "Gallagher",
         "M",
         "673 Delgado Burg",
         "Greenwich",
         "NJ",
         "8323",
         "39.4055",
         "-75.3209",
         "804",
         "Insurance risk surveyor",
         "1965-03-25",
         "ecf3cff893d47eeec287958f2dcbe9f8",
         "1355661656",
         "38.988831",
         "-75.44242",
         "0"
        ],
        [
         "2019-11-10 21:29:24",
         "1",
         "502038091380",
         "fraud_Haley, Jewess and Bechtelar",
         "shopping_pos",
         "819.52",
         "Kurt",
         "Peters",
         "M",
         "7290 Ashlee Keys",
         "Kissee Mills",
         "MO",
         "65680",
         "36.6704",
         "-93.0377",
         "1201",
         "Engineer, agricultural",
         "1980-03-18",
         "46f3f81e3f27d015db2d80f16a663b3d",
         "1352582964",
         "37.502359000000006",
         "-92.941619",
         "1"
        ],
        [
         "2019-12-31 22:11:08",
         "2",
         "30181367542315",
         "fraud_Tillman, Fritsch and Schmitt",
         "misc_net",
         "808.97",
         "Danielle",
         "Walker",
         "F",
         "9824 Mitchell Run",
         "Powell Butte",
         "OR",
         "97753",
         "44.2415",
         "-121.0113",
         "2016",
         "Local government officer",
         "1953-12-25",
         "cf6151929f0b38c9db2181b27423cd34",
         "1356991868",
         "44.93175",
         "-121.287451",
         "1"
        ],
        [
         "2020-04-09 17:23:25",
         "3",
         "376445266762684",
         "fraud_Mueller, Gerhold and Mueller",
         "health_fitness",
         "64.85",
         "Rachel",
         "Lowe",
         "F",
         "372 Jeffrey Course",
         "Sutherland",
         "NE",
         "69165",
         "41.1558",
         "-101.136",
         "1789",
         "Insurance broker",
         "1982-02-11",
         "5124d4971ec41f68634646067f63cd16",
         "1365528205",
         "41.084349",
         "-100.922198",
         "0"
        ],
        [
         "2019-12-22 15:03:23",
         "4",
         "3500969075198072",
         "fraud_Frami Group",
         "entertainment",
         "63.2",
         "Kenneth",
         "Sanchez",
         "M",
         "0110 Ashley Forest",
         "Tekoa",
         "WA",
         "99033",
         "47.2271",
         "-117.0819",
         "895",
         "Clothing/textile technologist",
         "1999-05-31",
         "c8b812894d9b9ca7feeff9c83facaec1",
         "1356188603",
         "46.411414",
         "-116.657814",
         "0"
        ]
       ],
       "shape": {
        "columns": 22,
        "rows": 5
       }
      },
      "text/html": [
       "<div>\n",
       "<style scoped>\n",
       "    .dataframe tbody tr th:only-of-type {\n",
       "        vertical-align: middle;\n",
       "    }\n",
       "\n",
       "    .dataframe tbody tr th {\n",
       "        vertical-align: top;\n",
       "    }\n",
       "\n",
       "    .dataframe thead th {\n",
       "        text-align: right;\n",
       "    }\n",
       "</style>\n",
       "<table border=\"1\" class=\"dataframe\">\n",
       "  <thead>\n",
       "    <tr style=\"text-align: right;\">\n",
       "      <th></th>\n",
       "      <th>Unnamed: 0</th>\n",
       "      <th>cc_num</th>\n",
       "      <th>merchant</th>\n",
       "      <th>category</th>\n",
       "      <th>amt</th>\n",
       "      <th>first</th>\n",
       "      <th>last</th>\n",
       "      <th>gender</th>\n",
       "      <th>street</th>\n",
       "      <th>city</th>\n",
       "      <th>...</th>\n",
       "      <th>lat</th>\n",
       "      <th>long</th>\n",
       "      <th>city_pop</th>\n",
       "      <th>job</th>\n",
       "      <th>dob</th>\n",
       "      <th>trans_num</th>\n",
       "      <th>unix_time</th>\n",
       "      <th>merch_lat</th>\n",
       "      <th>merch_long</th>\n",
       "      <th>is_fraud</th>\n",
       "    </tr>\n",
       "    <tr>\n",
       "      <th>trans_date_trans_time</th>\n",
       "      <th></th>\n",
       "      <th></th>\n",
       "      <th></th>\n",
       "      <th></th>\n",
       "      <th></th>\n",
       "      <th></th>\n",
       "      <th></th>\n",
       "      <th></th>\n",
       "      <th></th>\n",
       "      <th></th>\n",
       "      <th></th>\n",
       "      <th></th>\n",
       "      <th></th>\n",
       "      <th></th>\n",
       "      <th></th>\n",
       "      <th></th>\n",
       "      <th></th>\n",
       "      <th></th>\n",
       "      <th></th>\n",
       "      <th></th>\n",
       "      <th></th>\n",
       "    </tr>\n",
       "  </thead>\n",
       "  <tbody>\n",
       "    <tr>\n",
       "      <th>2019-12-16 12:40:56</th>\n",
       "      <td>0</td>\n",
       "      <td>377113842678100</td>\n",
       "      <td>fraud_O'Connell, Botsford and Hand</td>\n",
       "      <td>home</td>\n",
       "      <td>32.65</td>\n",
       "      <td>Billy</td>\n",
       "      <td>Gallagher</td>\n",
       "      <td>M</td>\n",
       "      <td>673 Delgado Burg</td>\n",
       "      <td>Greenwich</td>\n",
       "      <td>...</td>\n",
       "      <td>39.4055</td>\n",
       "      <td>-75.3209</td>\n",
       "      <td>804</td>\n",
       "      <td>Insurance risk surveyor</td>\n",
       "      <td>1965-03-25</td>\n",
       "      <td>ecf3cff893d47eeec287958f2dcbe9f8</td>\n",
       "      <td>1355661656</td>\n",
       "      <td>38.988831</td>\n",
       "      <td>-75.442420</td>\n",
       "      <td>0</td>\n",
       "    </tr>\n",
       "    <tr>\n",
       "      <th>2019-11-10 21:29:24</th>\n",
       "      <td>1</td>\n",
       "      <td>502038091380</td>\n",
       "      <td>fraud_Haley, Jewess and Bechtelar</td>\n",
       "      <td>shopping_pos</td>\n",
       "      <td>819.52</td>\n",
       "      <td>Kurt</td>\n",
       "      <td>Peters</td>\n",
       "      <td>M</td>\n",
       "      <td>7290 Ashlee Keys</td>\n",
       "      <td>Kissee Mills</td>\n",
       "      <td>...</td>\n",
       "      <td>36.6704</td>\n",
       "      <td>-93.0377</td>\n",
       "      <td>1201</td>\n",
       "      <td>Engineer, agricultural</td>\n",
       "      <td>1980-03-18</td>\n",
       "      <td>46f3f81e3f27d015db2d80f16a663b3d</td>\n",
       "      <td>1352582964</td>\n",
       "      <td>37.502359</td>\n",
       "      <td>-92.941619</td>\n",
       "      <td>1</td>\n",
       "    </tr>\n",
       "    <tr>\n",
       "      <th>2019-12-31 22:11:08</th>\n",
       "      <td>2</td>\n",
       "      <td>30181367542315</td>\n",
       "      <td>fraud_Tillman, Fritsch and Schmitt</td>\n",
       "      <td>misc_net</td>\n",
       "      <td>808.97</td>\n",
       "      <td>Danielle</td>\n",
       "      <td>Walker</td>\n",
       "      <td>F</td>\n",
       "      <td>9824 Mitchell Run</td>\n",
       "      <td>Powell Butte</td>\n",
       "      <td>...</td>\n",
       "      <td>44.2415</td>\n",
       "      <td>-121.0113</td>\n",
       "      <td>2016</td>\n",
       "      <td>Local government officer</td>\n",
       "      <td>1953-12-25</td>\n",
       "      <td>cf6151929f0b38c9db2181b27423cd34</td>\n",
       "      <td>1356991868</td>\n",
       "      <td>44.931750</td>\n",
       "      <td>-121.287451</td>\n",
       "      <td>1</td>\n",
       "    </tr>\n",
       "    <tr>\n",
       "      <th>2020-04-09 17:23:25</th>\n",
       "      <td>3</td>\n",
       "      <td>376445266762684</td>\n",
       "      <td>fraud_Mueller, Gerhold and Mueller</td>\n",
       "      <td>health_fitness</td>\n",
       "      <td>64.85</td>\n",
       "      <td>Rachel</td>\n",
       "      <td>Lowe</td>\n",
       "      <td>F</td>\n",
       "      <td>372 Jeffrey Course</td>\n",
       "      <td>Sutherland</td>\n",
       "      <td>...</td>\n",
       "      <td>41.1558</td>\n",
       "      <td>-101.1360</td>\n",
       "      <td>1789</td>\n",
       "      <td>Insurance broker</td>\n",
       "      <td>1982-02-11</td>\n",
       "      <td>5124d4971ec41f68634646067f63cd16</td>\n",
       "      <td>1365528205</td>\n",
       "      <td>41.084349</td>\n",
       "      <td>-100.922198</td>\n",
       "      <td>0</td>\n",
       "    </tr>\n",
       "    <tr>\n",
       "      <th>2019-12-22 15:03:23</th>\n",
       "      <td>4</td>\n",
       "      <td>3500969075198072</td>\n",
       "      <td>fraud_Frami Group</td>\n",
       "      <td>entertainment</td>\n",
       "      <td>63.20</td>\n",
       "      <td>Kenneth</td>\n",
       "      <td>Sanchez</td>\n",
       "      <td>M</td>\n",
       "      <td>0110 Ashley Forest</td>\n",
       "      <td>Tekoa</td>\n",
       "      <td>...</td>\n",
       "      <td>47.2271</td>\n",
       "      <td>-117.0819</td>\n",
       "      <td>895</td>\n",
       "      <td>Clothing/textile technologist</td>\n",
       "      <td>1999-05-31</td>\n",
       "      <td>c8b812894d9b9ca7feeff9c83facaec1</td>\n",
       "      <td>1356188603</td>\n",
       "      <td>46.411414</td>\n",
       "      <td>-116.657814</td>\n",
       "      <td>0</td>\n",
       "    </tr>\n",
       "  </tbody>\n",
       "</table>\n",
       "<p>5 rows × 22 columns</p>\n",
       "</div>"
      ],
      "text/plain": [
       "                       Unnamed: 0            cc_num  \\\n",
       "trans_date_trans_time                                 \n",
       "2019-12-16 12:40:56             0   377113842678100   \n",
       "2019-11-10 21:29:24             1      502038091380   \n",
       "2019-12-31 22:11:08             2    30181367542315   \n",
       "2020-04-09 17:23:25             3   376445266762684   \n",
       "2019-12-22 15:03:23             4  3500969075198072   \n",
       "\n",
       "                                                 merchant        category  \\\n",
       "trans_date_trans_time                                                       \n",
       "2019-12-16 12:40:56    fraud_O'Connell, Botsford and Hand            home   \n",
       "2019-11-10 21:29:24     fraud_Haley, Jewess and Bechtelar    shopping_pos   \n",
       "2019-12-31 22:11:08    fraud_Tillman, Fritsch and Schmitt        misc_net   \n",
       "2020-04-09 17:23:25    fraud_Mueller, Gerhold and Mueller  health_fitness   \n",
       "2019-12-22 15:03:23                     fraud_Frami Group   entertainment   \n",
       "\n",
       "                          amt     first       last gender              street  \\\n",
       "trans_date_trans_time                                                           \n",
       "2019-12-16 12:40:56     32.65     Billy  Gallagher      M    673 Delgado Burg   \n",
       "2019-11-10 21:29:24    819.52      Kurt     Peters      M    7290 Ashlee Keys   \n",
       "2019-12-31 22:11:08    808.97  Danielle     Walker      F   9824 Mitchell Run   \n",
       "2020-04-09 17:23:25     64.85    Rachel       Lowe      F  372 Jeffrey Course   \n",
       "2019-12-22 15:03:23     63.20   Kenneth    Sanchez      M  0110 Ashley Forest   \n",
       "\n",
       "                               city  ...      lat      long  city_pop  \\\n",
       "trans_date_trans_time                ...                                \n",
       "2019-12-16 12:40:56       Greenwich  ...  39.4055  -75.3209       804   \n",
       "2019-11-10 21:29:24    Kissee Mills  ...  36.6704  -93.0377      1201   \n",
       "2019-12-31 22:11:08    Powell Butte  ...  44.2415 -121.0113      2016   \n",
       "2020-04-09 17:23:25      Sutherland  ...  41.1558 -101.1360      1789   \n",
       "2019-12-22 15:03:23           Tekoa  ...  47.2271 -117.0819       895   \n",
       "\n",
       "                                                 job         dob  \\\n",
       "trans_date_trans_time                                              \n",
       "2019-12-16 12:40:56          Insurance risk surveyor  1965-03-25   \n",
       "2019-11-10 21:29:24           Engineer, agricultural  1980-03-18   \n",
       "2019-12-31 22:11:08         Local government officer  1953-12-25   \n",
       "2020-04-09 17:23:25                 Insurance broker  1982-02-11   \n",
       "2019-12-22 15:03:23    Clothing/textile technologist  1999-05-31   \n",
       "\n",
       "                                              trans_num   unix_time  \\\n",
       "trans_date_trans_time                                                 \n",
       "2019-12-16 12:40:56    ecf3cff893d47eeec287958f2dcbe9f8  1355661656   \n",
       "2019-11-10 21:29:24    46f3f81e3f27d015db2d80f16a663b3d  1352582964   \n",
       "2019-12-31 22:11:08    cf6151929f0b38c9db2181b27423cd34  1356991868   \n",
       "2020-04-09 17:23:25    5124d4971ec41f68634646067f63cd16  1365528205   \n",
       "2019-12-22 15:03:23    c8b812894d9b9ca7feeff9c83facaec1  1356188603   \n",
       "\n",
       "                       merch_lat  merch_long  is_fraud  \n",
       "trans_date_trans_time                                   \n",
       "2019-12-16 12:40:56    38.988831  -75.442420         0  \n",
       "2019-11-10 21:29:24    37.502359  -92.941619         1  \n",
       "2019-12-31 22:11:08    44.931750 -121.287451         1  \n",
       "2020-04-09 17:23:25    41.084349 -100.922198         0  \n",
       "2019-12-22 15:03:23    46.411414 -116.657814         0  \n",
       "\n",
       "[5 rows x 22 columns]"
      ]
     },
     "execution_count": 27,
     "metadata": {},
     "output_type": "execute_result"
    }
   ],
   "source": [
    "fraud_txn_time_dat_df.head()"
   ]
  },
  {
   "cell_type": "code",
   "execution_count": 28,
   "id": "635df1c6",
   "metadata": {},
   "outputs": [
    {
     "data": {
      "application/vnd.microsoft.datawrangler.viewer.v0+json": {
       "columns": [
        {
         "name": "trans_date_trans_time",
         "rawType": "datetime64[ns]",
         "type": "datetime"
        },
        {
         "name": "sum",
         "rawType": "int64",
         "type": "integer"
        },
        {
         "name": "count",
         "rawType": "int64",
         "type": "integer"
        }
       ],
       "ref": "e8ad8c76-1de1-46a1-b1ea-88aa9a63182d",
       "rows": [
        [
         "2019-01-01 00:00:00",
         "0",
         "14"
        ],
        [
         "2019-01-02 00:00:00",
         "7",
         "8"
        ],
        [
         "2019-01-03 00:00:00",
         "12",
         "23"
        ],
        [
         "2019-01-04 00:00:00",
         "13",
         "22"
        ],
        [
         "2019-01-05 00:00:00",
         "13",
         "21"
        ]
       ],
       "shape": {
        "columns": 2,
        "rows": 5
       }
      },
      "text/html": [
       "<div>\n",
       "<style scoped>\n",
       "    .dataframe tbody tr th:only-of-type {\n",
       "        vertical-align: middle;\n",
       "    }\n",
       "\n",
       "    .dataframe tbody tr th {\n",
       "        vertical-align: top;\n",
       "    }\n",
       "\n",
       "    .dataframe thead th {\n",
       "        text-align: right;\n",
       "    }\n",
       "</style>\n",
       "<table border=\"1\" class=\"dataframe\">\n",
       "  <thead>\n",
       "    <tr style=\"text-align: right;\">\n",
       "      <th></th>\n",
       "      <th>sum</th>\n",
       "      <th>count</th>\n",
       "    </tr>\n",
       "    <tr>\n",
       "      <th>trans_date_trans_time</th>\n",
       "      <th></th>\n",
       "      <th></th>\n",
       "    </tr>\n",
       "  </thead>\n",
       "  <tbody>\n",
       "    <tr>\n",
       "      <th>2019-01-01</th>\n",
       "      <td>0</td>\n",
       "      <td>14</td>\n",
       "    </tr>\n",
       "    <tr>\n",
       "      <th>2019-01-02</th>\n",
       "      <td>7</td>\n",
       "      <td>8</td>\n",
       "    </tr>\n",
       "    <tr>\n",
       "      <th>2019-01-03</th>\n",
       "      <td>12</td>\n",
       "      <td>23</td>\n",
       "    </tr>\n",
       "    <tr>\n",
       "      <th>2019-01-04</th>\n",
       "      <td>13</td>\n",
       "      <td>22</td>\n",
       "    </tr>\n",
       "    <tr>\n",
       "      <th>2019-01-05</th>\n",
       "      <td>13</td>\n",
       "      <td>21</td>\n",
       "    </tr>\n",
       "  </tbody>\n",
       "</table>\n",
       "</div>"
      ],
      "text/plain": [
       "                       sum  count\n",
       "trans_date_trans_time            \n",
       "2019-01-01               0     14\n",
       "2019-01-02               7      8\n",
       "2019-01-03              12     23\n",
       "2019-01-04              13     22\n",
       "2019-01-05              13     21"
      ]
     },
     "execution_count": 28,
     "metadata": {},
     "output_type": "execute_result"
    }
   ],
   "source": [
    "daily = fraud_txn_time_dat_df.groupby(pd.Grouper(freq='D'))['is_fraud'].agg(['sum', 'count'])\n",
    "daily.head()"
   ]
  },
  {
   "cell_type": "code",
   "execution_count": 29,
   "id": "56764465",
   "metadata": {},
   "outputs": [
    {
     "name": "stdout",
     "output_type": "stream",
     "text": [
      "                       fraud_count  total_count  fraud_rate\n",
      "trans_date_trans_time                                      \n",
      "2019-01-01                       0           14    0.000000\n",
      "2019-01-02                       7            8    0.875000\n",
      "2019-01-03                      12           23    0.521739\n",
      "2019-01-04                      13           22    0.590909\n",
      "2019-01-05                      13           21    0.619048\n",
      "<bound method DataFrame.count of                        fraud_count  total_count  fraud_rate\n",
      "trans_date_trans_time                                      \n",
      "2019-01-01                       0           14    0.000000\n",
      "2019-01-02                       7            8    0.875000\n",
      "2019-01-03                      12           23    0.521739\n",
      "2019-01-04                      13           22    0.590909\n",
      "2019-01-05                      13           21    0.619048\n",
      "...                            ...          ...         ...\n",
      "2020-06-17                      35           44    0.795455\n",
      "2020-06-18                      39           50    0.780000\n",
      "2020-06-19                      25           43    0.581395\n",
      "2020-06-20                      26           45    0.577778\n",
      "2020-06-21                       7           17    0.411765\n",
      "\n",
      "[538 rows x 3 columns]>\n"
     ]
    }
   ],
   "source": [
    "daily.rename(columns={'sum': 'fraud_count', 'count': 'total_count'}, inplace=True)\n",
    "# rate of fraud count i.e. (sum of fraud count per time instance of day) / (total transactions per the same time instance of day)\n",
    "daily['fraud_rate'] = daily['fraud_count'] / daily['total_count']\n",
    "\n",
    "print(daily.head())\n",
    "print(daily.count)"
   ]
  },
  {
   "cell_type": "code",
   "execution_count": 30,
   "id": "b4e7b9c6",
   "metadata": {},
   "outputs": [
    {
     "data": {
      "image/png": "[encoded data removed]",
      "text/plain": [
       "<Figure size 1200x600 with 1 Axes>"
      ]
     },
     "metadata": {},
     "output_type": "display_data"
    }
   ],
   "source": [
    "# Plot fraud count and rate over time\n",
    "fig, ax1 = plt.subplots(figsize=(12,6))\n",
    "\n",
    "ax1.plot(daily.index, daily['fraud_count'], color='tab:red', label='Fraud count (daily)')\n",
    "ax1.set_ylabel('Fraud count', color='tab:red')\n",
    "ax1.tick_params(axis='y', labelcolor='tab:red')"
   ]
  }
 ],
 "metadata": {
  "kernelspec": {
   "display_name": "clsfenv1",
   "language": "python",
   "name": "python3"
  },
  "language_info": {
   "codemirror_mode": {
    "name": "ipython",
    "version": 3
   },
   "file_extension": ".py",
   "mimetype": "text/x-python",
   "name": "python",
   "nbconvert_exporter": "python",
   "pygments_lexer": "ipython3",
   "version": "3.11.11"
  }
 },
 "nbformat": 4,
 "nbformat_minor": 5
}
